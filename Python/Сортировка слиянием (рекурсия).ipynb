{
 "cells": [
  {
   "cell_type": "code",
   "execution_count": 9,
   "metadata": {},
   "outputs": [
    {
     "name": "stdout",
     "output_type": "stream",
     "text": [
      "[4, 5, 6, 7, 8, 8, 8]\n"
     ]
    }
   ],
   "source": [
    "def sor(a:list, b:list):\n",
    "    c = [0]* (len(a) + len(b))\n",
    "    i = k = n = 0\n",
    "    while i < len(a) and k < len(b):\n",
    "        if a[i] <= b[k]:\n",
    "            c[n] = a[i]\n",
    "            i += 1\n",
    "            n += 1\n",
    "        else:\n",
    "            c[n] = b[k]\n",
    "            k += 1\n",
    "            n += 1\n",
    "    while i < len(a):\n",
    "        c[n] = a[i]\n",
    "        i += 1\n",
    "        n += 1\n",
    "    while k < len(b):\n",
    "        c[n] = b[k]\n",
    "        k += 1\n",
    "        n += 1\n",
    "    return c\n",
    "\n",
    "def sort_rec(A):\n",
    "    if len(A) <= 1:\n",
    "        return\n",
    "    meddle = len(A) // 2\n",
    "    L = [A[i] for i in range(0, meddle)]\n",
    "    R = [A[i] for i in range(meddle, len(A))]\n",
    "    sort_rec(L)\n",
    "    sort_rec(R)\n",
    "    C = sor(L, R)\n",
    "    for i in range(len(A)):\n",
    "        A[i] = C[i]\n",
    "    return A\n",
    "        \n",
    "A = [5,8,8,4,6,8,7]\n",
    "x = sort_rec(A)\n",
    "print(x)"
   ]
  },
  {
   "cell_type": "code",
   "execution_count": null,
   "metadata": {},
   "outputs": [],
   "source": []
  }
 ],
 "metadata": {
  "kernelspec": {
   "display_name": "Python 3",
   "language": "python",
   "name": "python3"
  },
  "language_info": {
   "codemirror_mode": {
    "name": "ipython",
    "version": 3
   },
   "file_extension": ".py",
   "mimetype": "text/x-python",
   "name": "python",
   "nbconvert_exporter": "python",
   "pygments_lexer": "ipython3",
   "version": "3.8.5"
  }
 },
 "nbformat": 4,
 "nbformat_minor": 4
}
