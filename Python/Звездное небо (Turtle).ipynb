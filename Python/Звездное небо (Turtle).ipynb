{
 "cells": [
  {
   "cell_type": "code",
   "execution_count": 1,
   "metadata": {},
   "outputs": [],
   "source": [
    "import turtle as t, random as r, time \n",
    " \n",
    "def starfill(n, dlina): \n",
    "  joe.begin_fill() \n",
    "  if n % 2 != 0: \n",
    "    for i in range(n): \n",
    "      joe.forward(dlina) \n",
    "      angle = n // 2 * 360 / n \n",
    "      joe.left(angle) \n",
    "  joe.end_fill() \n",
    " \n",
    "windows = t.Screen() \n",
    "windows.bgcolor('black') \n",
    "windows.setup(500, 500) \n",
    " \n",
    "joe = t.Turtle() \n",
    "joe.speed(0) \n",
    "joe.color('yellow') \n",
    "for i in range(50): \n",
    "  x = r.randint(-250, 220) \n",
    "  y = r.randint(-220, 220) \n",
    "  joe.up() \n",
    "  joe.setposition(x, y) \n",
    "  joe.down() \n",
    "  size = r.randint(5, 20) \n",
    "  vershina = r.choice([5, 8, 9, 3, 7, 15]) \n",
    "  starfill(vershina, size) \n",
    "time.sleep(5)"
   ]
  },
  {
   "cell_type": "code",
   "execution_count": null,
   "metadata": {},
   "outputs": [],
   "source": []
  }
 ],
 "metadata": {
  "kernelspec": {
   "display_name": "Python 3",
   "language": "python",
   "name": "python3"
  },
  "language_info": {
   "codemirror_mode": {
    "name": "ipython",
    "version": 3
   },
   "file_extension": ".py",
   "mimetype": "text/x-python",
   "name": "python",
   "nbconvert_exporter": "python",
   "pygments_lexer": "ipython3",
   "version": "3.8.5"
  }
 },
 "nbformat": 4,
 "nbformat_minor": 4
}
