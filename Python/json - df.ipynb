{
 "cells": [
  {
   "cell_type": "code",
   "execution_count": null,
   "metadata": {},
   "outputs": [],
   "source": [
    "import pandas as pd\n",
    "import json  \n",
    "from pprint import pprint\n",
    "\n",
    "def find_item(ingredients):\n",
    "    if ingredient in ingredients:\n",
    "        return 1\n",
    "    return 0\n",
    "\n",
    "with open('recipes.json') as f:\n",
    "    recipes = json.load(f)\n",
    "df = pd.DataFrame(recipes)\n",
    "ingredients = set()  \n",
    "for recipe in recipes: \n",
    "    for ingredient in recipe['ingredients']:\n",
    "        ingredients.add(ingredient)\n",
    "        \n",
    "for ingredient in ingredients:\n",
    "    df[ingredient] = df['ingredients'].apply(find_item)\n",
    "df['ingredients'] = df['ingredients'].apply(lambda x: len(x))\n",
    "df\n",
    "df.to_csv('recipes.csv', index = False)"
   ]
  }
 ],
 "metadata": {
  "kernelspec": {
   "display_name": "Python 3",
   "language": "python",
   "name": "python3"
  },
  "language_info": {
   "codemirror_mode": {
    "name": "ipython",
    "version": 3
   },
   "file_extension": ".py",
   "mimetype": "text/x-python",
   "name": "python",
   "nbconvert_exporter": "python",
   "pygments_lexer": "ipython3",
   "version": "3.8.5"
  }
 },
 "nbformat": 4,
 "nbformat_minor": 4
}
