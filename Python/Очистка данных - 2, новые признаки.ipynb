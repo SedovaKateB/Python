{
 "cells": [
  {
   "cell_type": "code",
   "execution_count": 233,
   "metadata": {},
   "outputs": [
    {
     "data": {
      "text/plain": [
       "0          0.0\n",
       "1          0.0\n",
       "2          0.0\n",
       "3          0.0\n",
       "4          0.0\n",
       "        ...   \n",
       "991     6927.0\n",
       "992   -10154.0\n",
       "993   -10254.0\n",
       "994   -10354.0\n",
       "995    -9754.0\n",
       "Length: 985, dtype: float64"
      ]
     },
     "execution_count": 233,
     "metadata": {},
     "output_type": "execute_result"
    }
   ],
   "source": [
    "def day(hour):\n",
    "    if 0 <= hour <= 5:\n",
    "        return 'ночь'\n",
    "    elif 6 <= hour <= 11:\n",
    "        return 'утро'\n",
    "    elif 12 <= hour <= 17:\n",
    "        return 'день'\n",
    "    elif 18 <= hour <= 23:\n",
    "        return 'вечер'\n",
    "    else:\n",
    "        return 'ошибка'\n",
    "    \n",
    "def fillna_win(row):  \n",
    "    if row['win'] != 0:\n",
    "        return row['win']\n",
    "    if row['win'] == 0:\n",
    "        if row['bet'] == 0:\n",
    "            return 0\n",
    "        else:\n",
    "            return -row['bet']\n",
    "        \n",
    "log = pd.read_csv('log.csv', header=None)\n",
    "log.columns=['user_id', 'time', 'bet', 'win']\n",
    "\n",
    "users = pd.read_csv('users.csv', sep='\\t', encoding=\"koi8-r\")\n",
    "users.columns = (['user_id' ,'email', 'geo'])\n",
    "users.user_id = users.user_id.apply(lambda x: x.lower())\n",
    "\n",
    "log = log[log.user_id != '#error']\n",
    "log.user_id = log.user_id.str.split(' - ').apply(lambda x: x[1])\n",
    "log['bet'] = log['bet'].fillna(0)\n",
    "log['win'] = log['win'].fillna(0)\n",
    "log['net'] = log['win'] - log['bet']\n",
    "log.time = log.time.str.strip('[')\n",
    "log.time = pd.to_datetime(log['time'])\n",
    "df = pd.merge(log, users, on='user_id')\n",
    "\n",
    "new_win = log.apply(lambda row: fillna_win(row), axis=1)\n",
    "\n",
    "hour_column = log['time'].apply(lambda x: x.hour)\n",
    "hour_column.apply(day).value_counts()\n",
    "\n",
    "min_bet = log[log['bet']>0].bet.min()\n",
    "min_bet_amount = int(log[log['bet'] == min_bet][['bet']].value_counts())\n",
    "\n",
    "group = df[df.bet==0].groupby('user_id')['bet'].count()\n",
    "\n",
    "df.groupby('geo')['win'].sum().sort_values(ascending=False)\n",
    "\n",
    "df[df.bet>0].groupby('geo')['bet'].mean()\n",
    "df[df.bet>0].groupby('geo')['bet'].mean().min()\n",
    "df[df.bet>0].groupby('geo')['bet'].mean().max()\n",
    "\n",
    "sample2 = df.groupby('geo')['user_id'].count()\n"
   ]
  },
  {
   "cell_type": "code",
   "execution_count": null,
   "metadata": {},
   "outputs": [],
   "source": []
  }
 ],
 "metadata": {
  "kernelspec": {
   "display_name": "Python 3",
   "language": "python",
   "name": "python3"
  },
  "language_info": {
   "codemirror_mode": {
    "name": "ipython",
    "version": 3
   },
   "file_extension": ".py",
   "mimetype": "text/x-python",
   "name": "python",
   "nbconvert_exporter": "python",
   "pygments_lexer": "ipython3",
   "version": "3.8.5"
  }
 },
 "nbformat": 4,
 "nbformat_minor": 4
}
