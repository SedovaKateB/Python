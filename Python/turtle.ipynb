{
 "cells": [
  {
   "cell_type": "code",
   "execution_count": 5,
   "metadata": {},
   "outputs": [],
   "source": [
    "import turtle as t\n",
    "\n",
    "def sq(x):\n",
    "    for i in range(4):\n",
    "        joe.color(colors[i])\n",
    "        joe.forward(x)\n",
    "        joe.left(90)\n",
    "\n",
    "colors = ['blue', 'green', 'orange', 'pink']\n",
    "\n",
    "joe = t.Turtle()\n",
    "joe.speed(50)\n",
    "\n",
    "dlina = 30\n",
    "for i in range(50):\n",
    "    sq(dlina)\n",
    "    joe.left(15)\n",
    "    dlina += 5"
   ]
  },
  {
   "cell_type": "code",
   "execution_count": null,
   "metadata": {},
   "outputs": [],
   "source": []
  }
 ],
 "metadata": {
  "kernelspec": {
   "display_name": "Python 3",
   "language": "python",
   "name": "python3"
  },
  "language_info": {
   "codemirror_mode": {
    "name": "ipython",
    "version": 3
   },
   "file_extension": ".py",
   "mimetype": "text/x-python",
   "name": "python",
   "nbconvert_exporter": "python",
   "pygments_lexer": "ipython3",
   "version": "3.8.5"
  }
 },
 "nbformat": 4,
 "nbformat_minor": 4
}
