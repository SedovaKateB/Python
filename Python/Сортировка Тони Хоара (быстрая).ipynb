{
 "cells": [
  {
   "cell_type": "code",
   "execution_count": 1,
   "metadata": {},
   "outputs": [
    {
     "name": "stdout",
     "output_type": "stream",
     "text": [
      "[2, 2, 4, 5, 5, 6, 6, 7, 8, 48, 74, 85, 95]\n"
     ]
    }
   ],
   "source": [
    "def t_h(A):\n",
    "    if len(A) <= 1:\n",
    "        return\n",
    "    barrier = A[0]\n",
    "    L = []\n",
    "    M = []\n",
    "    R = []\n",
    "    for x in A:\n",
    "        if x < barrier:\n",
    "            L.append(x)\n",
    "        elif x == barrier:\n",
    "            M.append(x)\n",
    "        else:\n",
    "            R.append(x)\n",
    "    t_h(L)\n",
    "    t_h(R)\n",
    "    k = 0\n",
    "    for x in L:\n",
    "        A[k] = x\n",
    "        k += 1\n",
    "    for x in M:\n",
    "        A[k] = x\n",
    "        k += 1\n",
    "    for x in R:\n",
    "        A[k] = x\n",
    "        k += 1\n",
    "    return A\n",
    "\n",
    "A = [2,6,95,85,4,74,5,6,7,5,48,8,2]\n",
    "x = t_h(A)\n",
    "print(x)"
   ]
  }
 ],
 "metadata": {
  "kernelspec": {
   "display_name": "Python 3",
   "language": "python",
   "name": "python3"
  },
  "language_info": {
   "codemirror_mode": {
    "name": "ipython",
    "version": 3
   },
   "file_extension": ".py",
   "mimetype": "text/x-python",
   "name": "python",
   "nbconvert_exporter": "python",
   "pygments_lexer": "ipython3",
   "version": "3.8.5"
  }
 },
 "nbformat": 4,
 "nbformat_minor": 4
}
