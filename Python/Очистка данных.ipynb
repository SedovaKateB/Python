{
 "cells": [
  {
   "cell_type": "code",
   "execution_count": 125,
   "metadata": {},
   "outputs": [],
   "source": [
    "import pandas as pd\n",
    "\n",
    "def code(id):\n",
    "    if len(id.split()) > 2:\n",
    "        return id.split()[-1]\n",
    "    else:\n",
    "        return ''\n",
    "        \n",
    "log = pd.read_csv('log.csv', header=None)\n",
    "log.columns = ['user_id','time','bet','win']\n",
    "log2_delete= log[log.user_id=='#error']\n",
    "log = log.drop(log2_delete.index, axis = 0)\n",
    "log.user_id =log.user_id.apply(code)\n",
    "log.time = log.time.str.strip('[')"
   ]
  }
 ],
 "metadata": {
  "kernelspec": {
   "display_name": "Python 3",
   "language": "python",
   "name": "python3"
  },
  "language_info": {
   "codemirror_mode": {
    "name": "ipython",
    "version": 3
   },
   "file_extension": ".py",
   "mimetype": "text/x-python",
   "name": "python",
   "nbconvert_exporter": "python",
   "pygments_lexer": "ipython3",
   "version": "3.8.5"
  }
 },
 "nbformat": 4,
 "nbformat_minor": 4
}
