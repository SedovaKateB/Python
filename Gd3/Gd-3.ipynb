{
 "cells": [
  {
   "cell_type": "code",
   "execution_count": 1,
   "metadata": {},
   "outputs": [],
   "source": [
    "import pandas as pd\n",
    "import warnings\n",
    "warnings.filterwarnings(\"ignore\")\n",
    "\n",
    "'Загружаем файл и оставляем только интересующий нас промежуток времени'\n",
    "\n",
    "event_df = pd.read_csv('7_4_Events.csv')\n",
    "cond = (event_df['start_time'] >= '2018-01-01') & (event_df['start_time'] < '2019-01-01') & (event_df['event_type'] == 'registration')\n",
    "registered = event_df[cond]['user_id'].to_list()\n",
    "events = event_df[event_df['user_id'].isin(registered)]\n",
    "events['start_time'] = pd.to_datetime(events['start_time'], format='%Y-%m-%dT%H:%M:%S')\n"
   ]
  },
  {
   "cell_type": "code",
   "execution_count": 2,
   "metadata": {},
   "outputs": [],
   "source": [
    "'Пользователи совершившие оплату'\n",
    "\n",
    "purchase_df = pd.read_csv('purchase.csv')\n",
    "purchase_df['event_type'] = 'purchase'\n",
    "purchase = purchase_df[purchase_df['user_id'].isin(registered)]\n",
    "purchase['event_datetime'] = pd.to_datetime(purchase['event_datetime'], format='%Y-%m-%dT%H:%M:%S')"
   ]
  },
  {
   "cell_type": "markdown",
   "metadata": {},
   "source": [
    "Главная цель — исследовать поведение пользователей. В рамках исследования нам необходимо решить следующие задачи:\n",
    "\n",
    "1. Определить самые распространённые пути прохождения этапов в приложении.\n",
    "2. Определить среднее время между различными этапами.\n",
    "\n",
    "Для того чтобы понимать, как пользователи переходят из этапа в этап и на каких из них возникают сложности, опреляем конверсию на каждом из этапов воронки. То есть нужно понять, какой процент пользователей переходит с предыдущего этапа на следующий."
   ]
  },
  {
   "cell_type": "code",
   "execution_count": 3,
   "metadata": {},
   "outputs": [
    {
     "data": {
      "text/plain": [
       "19926"
      ]
     },
     "execution_count": 3,
     "metadata": {},
     "output_type": "execute_result"
    }
   ],
   "source": [
    "'сколько пользователей совершают событие registration'\n",
    "\n",
    "events[events['event_type'] == 'registration']['user_id'].nunique()\n",
    "events['user_id'].nunique()"
   ]
  },
  {
   "cell_type": "markdown",
   "metadata": {},
   "source": [
    "Все пользователи совершают событие registration. Это обусловлено тем, что данный этап является обязательным для выполнения и без него пользователь не сможет перейти дальше."
   ]
  },
  {
   "cell_type": "code",
   "execution_count": 5,
   "metadata": {},
   "outputs": [
    {
     "data": {
      "text/plain": [
       "11858"
      ]
     },
     "execution_count": 5,
     "metadata": {},
     "output_type": "execute_result"
    }
   ],
   "source": [
    "'срез данных по событию tutorial_start'\n",
    "\n",
    "events[events['event_type'] == 'tutorial_start'].head(10)\n",
    "events[events['event_type'] == 'tutorial_start']['user_id'].nunique()"
   ]
  },
  {
   "cell_type": "code",
   "execution_count": 6,
   "metadata": {},
   "outputs": [
    {
     "name": "stdout",
     "output_type": "stream",
     "text": [
      "Процент пользователей, начавших обучение (от общего числа зарегистрировавшихся): 59.51%\n"
     ]
    }
   ],
   "source": [
    "'определим процент пользователей, которые перешли к выполнению обучения, и запишем его в переменную percent_tutorial_start_users.'\n",
    "\n",
    "registered_users_count = events[events[\"event_type\"] == \"registration\"][\n",
    "    \"user_id\"\n",
    "].nunique()\n",
    "tutorial_start_users_count = events[events[\"event_type\"] == \"tutorial_start\"][\n",
    "    \"user_id\"\n",
    "].nunique()\n",
    "percent_tutorial_start_users = tutorial_start_users_count / registered_users_count\n",
    "print(\n",
    "    \"Процент пользователей, начавших обучение (от общего числа зарегистрировавшихся): {:.2%}\".format(\n",
    "        percent_tutorial_start_users\n",
    "    )\n",
    ")"
   ]
  },
  {
   "cell_type": "code",
   "execution_count": 7,
   "metadata": {},
   "outputs": [
    {
     "data": {
      "text/plain": [
       "10250"
      ]
     },
     "execution_count": 7,
     "metadata": {},
     "output_type": "execute_result"
    }
   ],
   "source": [
    "'количество пользователей проходит обучение до конца (событие tutorial_finish)'\n",
    "\n",
    "events[events['event_type'] == 'tutorial_finish']['user_id'].nunique()"
   ]
  },
  {
   "cell_type": "code",
   "execution_count": 8,
   "metadata": {},
   "outputs": [
    {
     "name": "stdout",
     "output_type": "stream",
     "text": [
      "Процент пользователей, завершивших обучение: 86.44%\n"
     ]
    }
   ],
   "source": [
    "'Рассчитаем процент пользователей, завершивших обучение, среди пользователей, которые начали обучение.'\n",
    "'Это будет показатель tutorial_completion_rate'\n",
    "\n",
    "tutorial_finish_users_count = events[events[\"event_type\"] == \"tutorial_finish\"][\n",
    "    \"user_id\"\n",
    "].nunique()\n",
    "tutorial_completion_rate = tutorial_finish_users_count / tutorial_start_users_count\n",
    "print(\n",
    "    \"Процент пользователей, завершивших обучение: {:.2%}\".format(\n",
    "        tutorial_completion_rate\n",
    "    )\n",
    ")"
   ]
  },
  {
   "cell_type": "markdown",
   "metadata": {},
   "source": [
    "На данном этапе исследования можно сделать вывод, что в нашем приложении достаточно хороший процент прохождения обучения."
   ]
  },
  {
   "cell_type": "code",
   "execution_count": 9,
   "metadata": {},
   "outputs": [
    {
     "data": {
      "text/plain": [
       "8342"
      ]
     },
     "execution_count": 9,
     "metadata": {},
     "output_type": "execute_result"
    }
   ],
   "source": [
    "'выбор уровня сложности level_choice'\n",
    "\n",
    "events[events['event_type'] == 'level_choice']['user_id'].nunique()"
   ]
  },
  {
   "cell_type": "code",
   "execution_count": 10,
   "metadata": {},
   "outputs": [
    {
     "name": "stdout",
     "output_type": "stream",
     "text": [
      "Процент пользователей, выбравших уровень сложности тренировок (от общего числа зарегистрировавшихся): 41.86%\n"
     ]
    }
   ],
   "source": [
    "'рассчитаем долю пользователей percent_level_choice_users, которые выбрали уровень сложности, от общего числа зарегистрировавшихся'\n",
    "\n",
    "level_choice_users_count = events[events[\"event_type\"] == \"level_choice\"][\n",
    "    \"user_id\"\n",
    "].nunique()\n",
    "percent_level_choice_users = level_choice_users_count / registered_users_count\n",
    "print(\n",
    "    \"Процент пользователей, выбравших уровень сложности тренировок (от общего числа зарегистрировавшихся): {:.2%}\".format(\n",
    "        percent_level_choice_users\n",
    "    )\n",
    ")"
   ]
  },
  {
   "cell_type": "markdown",
   "metadata": {},
   "source": [
    "Меньше половины пользователей (41.76 %) доходят до этапа выбора уровня сложности вопросов. А ведь этот этап напрямую влияет на то, что пользователь будет пользоваться приложением через бесплатные возможности, которые в дальнейшем могут привести к оплате.\n",
    "\n",
    "Таким образом, для успешной монетизации приложения крайне важно оптимизировать прохождение до этапа выбора сложности."
   ]
  },
  {
   "cell_type": "code",
   "execution_count": 11,
   "metadata": {},
   "outputs": [
    {
     "data": {
      "text/plain": [
       "5737"
      ]
     },
     "execution_count": 11,
     "metadata": {},
     "output_type": "execute_result"
    }
   ],
   "source": [
    "'определим число пользователей, которые совершили событие выбора бесплатного пакета вопросов pack_choice'\n",
    "\n",
    "events[events['event_type'] == 'pack_choice']['user_id'].nunique()"
   ]
  },
  {
   "cell_type": "code",
   "execution_count": 12,
   "metadata": {},
   "outputs": [
    {
     "name": "stdout",
     "output_type": "stream",
     "text": [
      "Процент пользователей, выбравших набор бесплатных вопросов (от числа пользователей, которые выбрали уровень сложности): 68.77%\n"
     ]
    }
   ],
   "source": [
    "'оценим процент таких пользователей от числа пользователей, которые выбрали уровень сложности'\n",
    "\n",
    "training_choice_users_count = events[events[\"event_type\"] == \"pack_choice\"][\n",
    "    \"user_id\"\n",
    "].nunique()\n",
    "percent_training_choice_users = training_choice_users_count / level_choice_users_count\n",
    "print(\n",
    "    \"Процент пользователей, выбравших набор бесплатных вопросов (от числа пользователей, которые выбрали уровень сложности): {:.2%}\".format(\n",
    "        percent_training_choice_users\n",
    "    )\n",
    ")"
   ]
  },
  {
   "cell_type": "code",
   "execution_count": 14,
   "metadata": {},
   "outputs": [
    {
     "data": {
      "text/plain": [
       "1600"
      ]
     },
     "execution_count": 14,
     "metadata": {},
     "output_type": "execute_result"
    }
   ],
   "source": [
    "'оценим число пользователей, которые совершили покупку. Для этого нам потребуется датафрейм purchase_df'\n",
    "\n",
    "purchase['user_id'].nunique()\n",
    "paying_users_count = purchase[\"user_id\"].nunique()\n",
    "paying_users_count"
   ]
  },
  {
   "cell_type": "code",
   "execution_count": 15,
   "metadata": {},
   "outputs": [
    {
     "name": "stdout",
     "output_type": "stream",
     "text": [
      "Процент пользователей, которые оплатили вопросы (от числа пользователей, которые выбрали тренировки): 27.89%\n"
     ]
    }
   ],
   "source": [
    "'рассчитаем процент пользователей percent_of_paying_users, которые оплатили вопросы, от числа пользователей,'\n",
    "'которые приобрели бесплатные вопросы'\n",
    "\n",
    "percent_of_paying_users = paying_users_count / training_choice_users_count\n",
    "print(\n",
    "    \"Процент пользователей, которые оплатили вопросы (от числа пользователей, которые выбрали тренировки): {:.2%}\".format(\n",
    "        percent_of_paying_users\n",
    "    )\n",
    ")"
   ]
  },
  {
   "cell_type": "markdown",
   "metadata": {},
   "source": [
    "Таким образом, чуть больше четверти пользователей, которые выбирают бесплатные вопросы, в дальнейшем покупают их."
   ]
  },
  {
   "cell_type": "code",
   "execution_count": 16,
   "metadata": {},
   "outputs": [
    {
     "name": "stdout",
     "output_type": "stream",
     "text": [
      "Процент пользователей, которые оплатили вопросы(от числа зарегистрировавшихся пользователей): 8.03%\n"
     ]
    }
   ],
   "source": [
    "'какой процент составляют покупатели от общего числа зарегистрировавшихся. Для этого создадим переменную purchase_rate'\n",
    "\n",
    "purchase_rate = paying_users_count / registered_users_count\n",
    "print(\n",
    "    \"Процент пользователей, которые оплатили вопросы(от числа зарегистрировавшихся пользователей): {:.2%}\".format(\n",
    "        purchase_rate\n",
    "    )\n",
    ")"
   ]
  },
  {
   "cell_type": "markdown",
   "metadata": {},
   "source": [
    "Анализ уникальных пользовательских путей\n",
    "\n",
    "Чтобы понимать, какие есть различные последовательности прохождения пользователей по воронке и насколько часто они встречаются, можно воспользоваться таким подходом:\n",
    "\n",
    "-отсортировать все события по возрастанию во времени;\n",
    "-объединить для каждого пользователя все его события в один список;\n",
    "-подсчитать частоту различных списков."
   ]
  },
  {
   "cell_type": "code",
   "execution_count": 18,
   "metadata": {},
   "outputs": [
    {
     "data": {
      "text/html": [
       "<div>\n",
       "<style scoped>\n",
       "    .dataframe tbody tr th:only-of-type {\n",
       "        vertical-align: middle;\n",
       "    }\n",
       "\n",
       "    .dataframe tbody tr th {\n",
       "        vertical-align: top;\n",
       "    }\n",
       "\n",
       "    .dataframe thead th {\n",
       "        text-align: right;\n",
       "    }\n",
       "</style>\n",
       "<table border=\"1\" class=\"dataframe\">\n",
       "  <thead>\n",
       "    <tr style=\"text-align: right;\">\n",
       "      <th></th>\n",
       "      <th>event_id</th>\n",
       "      <th>event_type</th>\n",
       "      <th>selected_level</th>\n",
       "      <th>start_time</th>\n",
       "      <th>tutorial_id</th>\n",
       "      <th>user_id</th>\n",
       "      <th>purchase_id</th>\n",
       "      <th>event_datetime</th>\n",
       "      <th>amount</th>\n",
       "    </tr>\n",
       "  </thead>\n",
       "  <tbody>\n",
       "    <tr>\n",
       "      <th>0</th>\n",
       "      <td>80308.0</td>\n",
       "      <td>registration</td>\n",
       "      <td>NaN</td>\n",
       "      <td>2018-01-01 03:48:40</td>\n",
       "      <td>NaN</td>\n",
       "      <td>27832</td>\n",
       "      <td>NaN</td>\n",
       "      <td>NaT</td>\n",
       "      <td>NaN</td>\n",
       "    </tr>\n",
       "    <tr>\n",
       "      <th>1</th>\n",
       "      <td>80309.0</td>\n",
       "      <td>registration</td>\n",
       "      <td>NaN</td>\n",
       "      <td>2018-01-01 04:07:25</td>\n",
       "      <td>NaN</td>\n",
       "      <td>27833</td>\n",
       "      <td>NaN</td>\n",
       "      <td>NaT</td>\n",
       "      <td>NaN</td>\n",
       "    </tr>\n",
       "    <tr>\n",
       "      <th>2</th>\n",
       "      <td>80310.0</td>\n",
       "      <td>registration</td>\n",
       "      <td>NaN</td>\n",
       "      <td>2018-01-01 08:35:10</td>\n",
       "      <td>NaN</td>\n",
       "      <td>27834</td>\n",
       "      <td>NaN</td>\n",
       "      <td>NaT</td>\n",
       "      <td>NaN</td>\n",
       "    </tr>\n",
       "    <tr>\n",
       "      <th>3</th>\n",
       "      <td>80311.0</td>\n",
       "      <td>registration</td>\n",
       "      <td>NaN</td>\n",
       "      <td>2018-01-01 11:54:47</td>\n",
       "      <td>NaN</td>\n",
       "      <td>27835</td>\n",
       "      <td>NaN</td>\n",
       "      <td>NaT</td>\n",
       "      <td>NaN</td>\n",
       "    </tr>\n",
       "    <tr>\n",
       "      <th>4</th>\n",
       "      <td>80312.0</td>\n",
       "      <td>registration</td>\n",
       "      <td>NaN</td>\n",
       "      <td>2018-01-01 13:28:07</td>\n",
       "      <td>NaN</td>\n",
       "      <td>27836</td>\n",
       "      <td>NaN</td>\n",
       "      <td>NaT</td>\n",
       "      <td>NaN</td>\n",
       "    </tr>\n",
       "    <tr>\n",
       "      <th>...</th>\n",
       "      <td>...</td>\n",
       "      <td>...</td>\n",
       "      <td>...</td>\n",
       "      <td>...</td>\n",
       "      <td>...</td>\n",
       "      <td>...</td>\n",
       "      <td>...</td>\n",
       "      <td>...</td>\n",
       "      <td>...</td>\n",
       "    </tr>\n",
       "    <tr>\n",
       "      <th>68554</th>\n",
       "      <td>NaN</td>\n",
       "      <td>purchase</td>\n",
       "      <td>NaN</td>\n",
       "      <td>NaT</td>\n",
       "      <td>NaN</td>\n",
       "      <td>47498</td>\n",
       "      <td>18441.0</td>\n",
       "      <td>2019-01-02 03:48:19</td>\n",
       "      <td>100.0</td>\n",
       "    </tr>\n",
       "    <tr>\n",
       "      <th>68555</th>\n",
       "      <td>NaN</td>\n",
       "      <td>purchase</td>\n",
       "      <td>NaN</td>\n",
       "      <td>NaT</td>\n",
       "      <td>NaN</td>\n",
       "      <td>47647</td>\n",
       "      <td>18442.0</td>\n",
       "      <td>2019-01-02 23:26:26</td>\n",
       "      <td>150.0</td>\n",
       "    </tr>\n",
       "    <tr>\n",
       "      <th>68556</th>\n",
       "      <td>NaN</td>\n",
       "      <td>purchase</td>\n",
       "      <td>NaN</td>\n",
       "      <td>NaT</td>\n",
       "      <td>NaN</td>\n",
       "      <td>47554</td>\n",
       "      <td>18443.0</td>\n",
       "      <td>2019-01-03 00:36:36</td>\n",
       "      <td>50.0</td>\n",
       "    </tr>\n",
       "    <tr>\n",
       "      <th>68557</th>\n",
       "      <td>NaN</td>\n",
       "      <td>purchase</td>\n",
       "      <td>NaN</td>\n",
       "      <td>NaT</td>\n",
       "      <td>NaN</td>\n",
       "      <td>47742</td>\n",
       "      <td>18448.0</td>\n",
       "      <td>2019-01-04 12:51:41</td>\n",
       "      <td>50.0</td>\n",
       "    </tr>\n",
       "    <tr>\n",
       "      <th>68558</th>\n",
       "      <td>NaN</td>\n",
       "      <td>purchase</td>\n",
       "      <td>NaN</td>\n",
       "      <td>NaT</td>\n",
       "      <td>NaN</td>\n",
       "      <td>47732</td>\n",
       "      <td>18452.0</td>\n",
       "      <td>2019-01-06 07:14:25</td>\n",
       "      <td>150.0</td>\n",
       "    </tr>\n",
       "  </tbody>\n",
       "</table>\n",
       "<p>68559 rows × 9 columns</p>\n",
       "</div>"
      ],
      "text/plain": [
       "       event_id    event_type selected_level          start_time  tutorial_id  \\\n",
       "0       80308.0  registration            NaN 2018-01-01 03:48:40          NaN   \n",
       "1       80309.0  registration            NaN 2018-01-01 04:07:25          NaN   \n",
       "2       80310.0  registration            NaN 2018-01-01 08:35:10          NaN   \n",
       "3       80311.0  registration            NaN 2018-01-01 11:54:47          NaN   \n",
       "4       80312.0  registration            NaN 2018-01-01 13:28:07          NaN   \n",
       "...         ...           ...            ...                 ...          ...   \n",
       "68554       NaN      purchase            NaN                 NaT          NaN   \n",
       "68555       NaN      purchase            NaN                 NaT          NaN   \n",
       "68556       NaN      purchase            NaN                 NaT          NaN   \n",
       "68557       NaN      purchase            NaN                 NaT          NaN   \n",
       "68558       NaN      purchase            NaN                 NaT          NaN   \n",
       "\n",
       "       user_id  purchase_id      event_datetime  amount  \n",
       "0        27832          NaN                 NaT     NaN  \n",
       "1        27833          NaN                 NaT     NaN  \n",
       "2        27834          NaN                 NaT     NaN  \n",
       "3        27835          NaN                 NaT     NaN  \n",
       "4        27836          NaN                 NaT     NaN  \n",
       "...        ...          ...                 ...     ...  \n",
       "68554    47498      18441.0 2019-01-02 03:48:19   100.0  \n",
       "68555    47647      18442.0 2019-01-02 23:26:26   150.0  \n",
       "68556    47554      18443.0 2019-01-03 00:36:36    50.0  \n",
       "68557    47742      18448.0 2019-01-04 12:51:41    50.0  \n",
       "68558    47732      18452.0 2019-01-06 07:14:25   150.0  \n",
       "\n",
       "[68559 rows x 9 columns]"
      ]
     },
     "execution_count": 18,
     "metadata": {},
     "output_type": "execute_result"
    }
   ],
   "source": [
    "'объединим датафрейм с событиями с датафреймом по оплатам'\n",
    "\n",
    "purchase['event_type'] = 'purchase'\n",
    "events = events.rename(columns={\"id\": \"event_id\"})\n",
    "purchase = purchase.rename(columns={\"id\": \"purchase_id\"})\n",
    "total_events_df = pd.concat([events,purchase],sort=False)\n",
    "total_events_df = total_events_df.reset_index(drop=True).sort_values('start_time')\n",
    "total_events_df"
   ]
  },
  {
   "cell_type": "code",
   "execution_count": 19,
   "metadata": {},
   "outputs": [
    {
     "data": {
      "text/html": [
       "<div>\n",
       "<style scoped>\n",
       "    .dataframe tbody tr th:only-of-type {\n",
       "        vertical-align: middle;\n",
       "    }\n",
       "\n",
       "    .dataframe tbody tr th {\n",
       "        vertical-align: top;\n",
       "    }\n",
       "\n",
       "    .dataframe thead th {\n",
       "        text-align: right;\n",
       "    }\n",
       "</style>\n",
       "<table border=\"1\" class=\"dataframe\">\n",
       "  <thead>\n",
       "    <tr style=\"text-align: right;\">\n",
       "      <th></th>\n",
       "      <th>user_id</th>\n",
       "      <th>event_type</th>\n",
       "    </tr>\n",
       "  </thead>\n",
       "  <tbody>\n",
       "    <tr>\n",
       "      <th>0</th>\n",
       "      <td>27832</td>\n",
       "      <td>[registration]</td>\n",
       "    </tr>\n",
       "    <tr>\n",
       "      <th>1</th>\n",
       "      <td>27833</td>\n",
       "      <td>[registration, tutorial_start, tutorial_finish]</td>\n",
       "    </tr>\n",
       "    <tr>\n",
       "      <th>2</th>\n",
       "      <td>27834</td>\n",
       "      <td>[registration, tutorial_start, tutorial_finish]</td>\n",
       "    </tr>\n",
       "    <tr>\n",
       "      <th>3</th>\n",
       "      <td>27835</td>\n",
       "      <td>[registration, tutorial_start, tutorial_finish...</td>\n",
       "    </tr>\n",
       "    <tr>\n",
       "      <th>4</th>\n",
       "      <td>27836</td>\n",
       "      <td>[registration, tutorial_start, tutorial_start,...</td>\n",
       "    </tr>\n",
       "    <tr>\n",
       "      <th>5</th>\n",
       "      <td>27837</td>\n",
       "      <td>[registration]</td>\n",
       "    </tr>\n",
       "    <tr>\n",
       "      <th>6</th>\n",
       "      <td>27838</td>\n",
       "      <td>[registration]</td>\n",
       "    </tr>\n",
       "    <tr>\n",
       "      <th>7</th>\n",
       "      <td>27839</td>\n",
       "      <td>[registration, tutorial_start, tutorial_finish...</td>\n",
       "    </tr>\n",
       "    <tr>\n",
       "      <th>8</th>\n",
       "      <td>27840</td>\n",
       "      <td>[registration, tutorial_start, level_choice]</td>\n",
       "    </tr>\n",
       "    <tr>\n",
       "      <th>9</th>\n",
       "      <td>27841</td>\n",
       "      <td>[registration, tutorial_start, tutorial_finish]</td>\n",
       "    </tr>\n",
       "  </tbody>\n",
       "</table>\n",
       "</div>"
      ],
      "text/plain": [
       "   user_id                                         event_type\n",
       "0    27832                                     [registration]\n",
       "1    27833    [registration, tutorial_start, tutorial_finish]\n",
       "2    27834    [registration, tutorial_start, tutorial_finish]\n",
       "3    27835  [registration, tutorial_start, tutorial_finish...\n",
       "4    27836  [registration, tutorial_start, tutorial_start,...\n",
       "5    27837                                     [registration]\n",
       "6    27838                                     [registration]\n",
       "7    27839  [registration, tutorial_start, tutorial_finish...\n",
       "8    27840       [registration, tutorial_start, level_choice]\n",
       "9    27841    [registration, tutorial_start, tutorial_finish]"
      ]
     },
     "execution_count": 19,
     "metadata": {},
     "output_type": "execute_result"
    }
   ],
   "source": [
    "'для каждого пользователя создать список, который будет содержать во временной последовательности все события,'\n",
    "'совершаемые данным пользователем'\n",
    "\n",
    "user_path_df = (\n",
    "    total_events_df.groupby([\"user_id\"])[\"event_type\"].apply(list).reset_index()\n",
    ")\n",
    "user_path_df.head(10)"
   ]
  },
  {
   "cell_type": "code",
   "execution_count": 21,
   "metadata": {},
   "outputs": [
    {
     "data": {
      "text/plain": [
       "event_path\n",
       "registration                                                                                                       7970\n",
       "registration > tutorial_start > tutorial_finish > level_choice > pack_choice                                       2796\n",
       "registration > tutorial_start > tutorial_finish                                                                    1956\n",
       "registration > tutorial_start > tutorial_finish > level_choice                                                     1713\n",
       "registration > tutorial_start > tutorial_finish > level_choice > pack_choice > purchase                            1083\n",
       "registration > tutorial_start                                                                                       842\n",
       "registration > tutorial_start > level_choice > pack_choice                                                          346\n",
       "registration > tutorial_start > tutorial_finish > tutorial_start > tutorial_finish                                  323\n",
       "registration > tutorial_start > level_choice                                                                        243\n",
       "registration > tutorial_start > tutorial_finish > level_choice > pack_choice > tutorial_start > tutorial_finish     236\n",
       "Name: user_id, dtype: int64"
      ]
     },
     "execution_count": 21,
     "metadata": {},
     "output_type": "execute_result"
    }
   ],
   "source": [
    "'объединим данные по этой колонке и подсчитаем количество пользователей по каждому пути,'\n",
    "'получаем наиболее популярные пути пользователей'\n",
    "\n",
    "user_path_df[\"event_path\"] = user_path_df[\"event_type\"].apply(lambda x: \" > \".join(x))\n",
    "user_path_df[\"event_path\"].head()\n",
    "\n",
    "user_paths = (\n",
    "    user_path_df.groupby([\"event_path\"])[\"user_id\"]\n",
    "    .nunique()\n",
    "    .sort_values(ascending=False)\n",
    ")\n",
    "user_paths.head(10)"
   ]
  },
  {
   "cell_type": "markdown",
   "metadata": {},
   "source": [
    "Как мы видим, среди 10 самых популярных последовательностей только одна содержит этап оплаты. Это последовательность registration > tutorial_start > tutorial_finish > level_choice > pack_choice > purchase."
   ]
  },
  {
   "cell_type": "code",
   "execution_count": 22,
   "metadata": {},
   "outputs": [
    {
     "data": {
      "text/plain": [
       "event_path\n",
       "registration > tutorial_start > tutorial_finish > level_choice > pack_choice > purchase                                                                                                             1083\n",
       "registration > tutorial_start > level_choice > pack_choice > purchase                                                                                                                                124\n",
       "registration > tutorial_start > tutorial_finish > level_choice > pack_choice > tutorial_start > tutorial_finish > purchase                                                                           101\n",
       "registration > tutorial_start > tutorial_finish > tutorial_start > tutorial_finish > level_choice > pack_choice > purchase                                                                            52\n",
       "registration > tutorial_start > tutorial_start > tutorial_finish > level_choice > pack_choice > purchase                                                                                              26\n",
       "registration > level_choice > pack_choice > purchase                                                                                                                                                  22\n",
       "registration > tutorial_start > tutorial_finish > level_choice > pack_choice > tutorial_start > purchase                                                                                              21\n",
       "registration > tutorial_start > tutorial_finish > level_choice > pack_choice > tutorial_start > tutorial_finish > tutorial_start > tutorial_finish > purchase                                         12\n",
       "registration > tutorial_start > tutorial_finish > tutorial_start > tutorial_finish > level_choice > pack_choice > tutorial_start > tutorial_finish > purchase                                          8\n",
       "registration > tutorial_start > tutorial_finish > level_choice > pack_choice > tutorial_start > tutorial_finish > tutorial_start > tutorial_finish > tutorial_start > tutorial_finish > purchase       7\n",
       "Name: user_id, dtype: int64"
      ]
     },
     "execution_count": 22,
     "metadata": {},
     "output_type": "execute_result"
    }
   ],
   "source": [
    "'какие ещё последовательности содержат в себе оплату'\n",
    "\n",
    "user_paths[user_paths.index.str.contains('purchase')].head(10)"
   ]
  },
  {
   "cell_type": "raw",
   "metadata": {},
   "source": [
    "Большинство последовательностей, которые содержат в себе оплату, также содержат старт обучения. Это наводит на гипотезу, что вероятность оплаты зависит от того, проходил ли пользователь обучение."
   ]
  },
  {
   "cell_type": "markdown",
   "metadata": {},
   "source": [
    "Анализ временных промежутков.\n",
    "\n",
    "Время между этапами может сообщить нам о вовлечённости пользователей в приложение, а также о роли отдельных этапов на развитие этой вовлечённости. Если окажется, что у пользователей, которые проходят обучение, время до выбора вопросов меньше, чем у тех, кто его не проходит, то разработчикам нужно будет придумывать способы, как вовлекать пользователя в прохождение данного этапа."
   ]
  },
  {
   "cell_type": "code",
   "execution_count": 24,
   "metadata": {},
   "outputs": [
    {
     "data": {
      "text/html": [
       "<div>\n",
       "<style scoped>\n",
       "    .dataframe tbody tr th:only-of-type {\n",
       "        vertical-align: middle;\n",
       "    }\n",
       "\n",
       "    .dataframe tbody tr th {\n",
       "        vertical-align: top;\n",
       "    }\n",
       "\n",
       "    .dataframe thead th {\n",
       "        text-align: right;\n",
       "    }\n",
       "</style>\n",
       "<table border=\"1\" class=\"dataframe\">\n",
       "  <thead>\n",
       "    <tr style=\"text-align: right;\">\n",
       "      <th></th>\n",
       "      <th>user_id</th>\n",
       "      <th>registration_time</th>\n",
       "    </tr>\n",
       "  </thead>\n",
       "  <tbody>\n",
       "    <tr>\n",
       "      <th>0</th>\n",
       "      <td>27832</td>\n",
       "      <td>2018-01-01 03:48:40</td>\n",
       "    </tr>\n",
       "    <tr>\n",
       "      <th>1</th>\n",
       "      <td>27833</td>\n",
       "      <td>2018-01-01 04:07:25</td>\n",
       "    </tr>\n",
       "    <tr>\n",
       "      <th>2</th>\n",
       "      <td>27834</td>\n",
       "      <td>2018-01-01 08:35:10</td>\n",
       "    </tr>\n",
       "    <tr>\n",
       "      <th>3</th>\n",
       "      <td>27835</td>\n",
       "      <td>2018-01-01 11:54:47</td>\n",
       "    </tr>\n",
       "    <tr>\n",
       "      <th>4</th>\n",
       "      <td>27836</td>\n",
       "      <td>2018-01-01 13:28:07</td>\n",
       "    </tr>\n",
       "    <tr>\n",
       "      <th>...</th>\n",
       "      <td>...</td>\n",
       "      <td>...</td>\n",
       "    </tr>\n",
       "    <tr>\n",
       "      <th>66941</th>\n",
       "      <td>47753</td>\n",
       "      <td>2018-12-31 18:58:55</td>\n",
       "    </tr>\n",
       "    <tr>\n",
       "      <th>66942</th>\n",
       "      <td>47754</td>\n",
       "      <td>2018-12-31 19:14:08</td>\n",
       "    </tr>\n",
       "    <tr>\n",
       "      <th>66947</th>\n",
       "      <td>47755</td>\n",
       "      <td>2018-12-31 21:15:14</td>\n",
       "    </tr>\n",
       "    <tr>\n",
       "      <th>66950</th>\n",
       "      <td>47756</td>\n",
       "      <td>2018-12-31 23:17:30</td>\n",
       "    </tr>\n",
       "    <tr>\n",
       "      <th>66951</th>\n",
       "      <td>47757</td>\n",
       "      <td>2018-12-31 23:18:06</td>\n",
       "    </tr>\n",
       "  </tbody>\n",
       "</table>\n",
       "<p>19926 rows × 2 columns</p>\n",
       "</div>"
      ],
      "text/plain": [
       "       user_id   registration_time\n",
       "0        27832 2018-01-01 03:48:40\n",
       "1        27833 2018-01-01 04:07:25\n",
       "2        27834 2018-01-01 08:35:10\n",
       "3        27835 2018-01-01 11:54:47\n",
       "4        27836 2018-01-01 13:28:07\n",
       "...        ...                 ...\n",
       "66941    47753 2018-12-31 18:58:55\n",
       "66942    47754 2018-12-31 19:14:08\n",
       "66947    47755 2018-12-31 21:15:14\n",
       "66950    47756 2018-12-31 23:17:30\n",
       "66951    47757 2018-12-31 23:18:06\n",
       "\n",
       "[19926 rows x 2 columns]"
      ]
     },
     "execution_count": 24,
     "metadata": {},
     "output_type": "execute_result"
    }
   ],
   "source": [
    "'какое время проходит между регистрацией и началом обучения'\n",
    "\n",
    "registration_df = total_events_df[total_events_df['event_type'] == 'registration']\n",
    "registration_df['user_id'].value_counts().mean()\n",
    "registration_df = registration_df[[\"user_id\", \"start_time\"]].rename(\n",
    "    columns={\"start_time\": \"registration_time\"}\n",
    ")\n",
    "registration_df"
   ]
  },
  {
   "cell_type": "code",
   "execution_count": 25,
   "metadata": {},
   "outputs": [
    {
     "data": {
      "text/plain": [
       "1.522179119581717"
      ]
     },
     "execution_count": 25,
     "metadata": {},
     "output_type": "execute_result"
    }
   ],
   "source": [
    "'выделим отдельный датафрейм tutorial_start_df, который будет содержать только события с event_type = tutorial_start'\n",
    "\n",
    "tutorial_start_df = total_events_df[total_events_df['event_type'] == 'tutorial_start']\n",
    "tutorial_start_df['user_id'].value_counts().mean()\n"
   ]
  },
  {
   "cell_type": "markdown",
   "metadata": {},
   "source": [
    "Создадим датафрейм tutorial_start_df_wo_duplicates, где будет присутствовать только первое обучение. Для этого отсортируем датафрейм по start_time, чтобы сначала шли более ранние события начала обучения, а затем удалим дубликаты по столбцу user_id.\n",
    "Таким образом, для каждого user_id останется только первое событие типа tutorial_start."
   ]
  },
  {
   "cell_type": "code",
   "execution_count": 27,
   "metadata": {},
   "outputs": [
    {
     "data": {
      "text/html": [
       "<div>\n",
       "<style scoped>\n",
       "    .dataframe tbody tr th:only-of-type {\n",
       "        vertical-align: middle;\n",
       "    }\n",
       "\n",
       "    .dataframe tbody tr th {\n",
       "        vertical-align: top;\n",
       "    }\n",
       "\n",
       "    .dataframe thead th {\n",
       "        text-align: right;\n",
       "    }\n",
       "</style>\n",
       "<table border=\"1\" class=\"dataframe\">\n",
       "  <thead>\n",
       "    <tr style=\"text-align: right;\">\n",
       "      <th></th>\n",
       "      <th>user_id</th>\n",
       "      <th>tutorial_id</th>\n",
       "      <th>tutorial_start_time</th>\n",
       "    </tr>\n",
       "  </thead>\n",
       "  <tbody>\n",
       "    <tr>\n",
       "      <th>7</th>\n",
       "      <td>27836</td>\n",
       "      <td>31505.0</td>\n",
       "      <td>2018-01-01 14:54:40</td>\n",
       "    </tr>\n",
       "    <tr>\n",
       "      <th>8</th>\n",
       "      <td>27835</td>\n",
       "      <td>31506.0</td>\n",
       "      <td>2018-01-01 15:00:51</td>\n",
       "    </tr>\n",
       "    <tr>\n",
       "      <th>12</th>\n",
       "      <td>27833</td>\n",
       "      <td>31508.0</td>\n",
       "      <td>2018-01-01 17:47:40</td>\n",
       "    </tr>\n",
       "    <tr>\n",
       "      <th>15</th>\n",
       "      <td>27839</td>\n",
       "      <td>31509.0</td>\n",
       "      <td>2018-01-01 19:11:36</td>\n",
       "    </tr>\n",
       "    <tr>\n",
       "      <th>17</th>\n",
       "      <td>27834</td>\n",
       "      <td>31510.0</td>\n",
       "      <td>2018-01-01 19:46:11</td>\n",
       "    </tr>\n",
       "    <tr>\n",
       "      <th>...</th>\n",
       "      <td>...</td>\n",
       "      <td>...</td>\n",
       "      <td>...</td>\n",
       "    </tr>\n",
       "    <tr>\n",
       "      <th>66934</th>\n",
       "      <td>47747</td>\n",
       "      <td>49550.0</td>\n",
       "      <td>2018-12-31 10:21:11</td>\n",
       "    </tr>\n",
       "    <tr>\n",
       "      <th>66943</th>\n",
       "      <td>47751</td>\n",
       "      <td>49551.0</td>\n",
       "      <td>2018-12-31 19:38:14</td>\n",
       "    </tr>\n",
       "    <tr>\n",
       "      <th>66945</th>\n",
       "      <td>47753</td>\n",
       "      <td>49552.0</td>\n",
       "      <td>2018-12-31 20:54:56</td>\n",
       "    </tr>\n",
       "    <tr>\n",
       "      <th>66952</th>\n",
       "      <td>47755</td>\n",
       "      <td>49553.0</td>\n",
       "      <td>2019-01-01 00:08:14</td>\n",
       "    </tr>\n",
       "    <tr>\n",
       "      <th>66954</th>\n",
       "      <td>47756</td>\n",
       "      <td>49554.0</td>\n",
       "      <td>2019-01-01 03:26:18</td>\n",
       "    </tr>\n",
       "  </tbody>\n",
       "</table>\n",
       "<p>11858 rows × 3 columns</p>\n",
       "</div>"
      ],
      "text/plain": [
       "       user_id  tutorial_id tutorial_start_time\n",
       "7        27836      31505.0 2018-01-01 14:54:40\n",
       "8        27835      31506.0 2018-01-01 15:00:51\n",
       "12       27833      31508.0 2018-01-01 17:47:40\n",
       "15       27839      31509.0 2018-01-01 19:11:36\n",
       "17       27834      31510.0 2018-01-01 19:46:11\n",
       "...        ...          ...                 ...\n",
       "66934    47747      49550.0 2018-12-31 10:21:11\n",
       "66943    47751      49551.0 2018-12-31 19:38:14\n",
       "66945    47753      49552.0 2018-12-31 20:54:56\n",
       "66952    47755      49553.0 2019-01-01 00:08:14\n",
       "66954    47756      49554.0 2019-01-01 03:26:18\n",
       "\n",
       "[11858 rows x 3 columns]"
      ]
     },
     "execution_count": 27,
     "metadata": {},
     "output_type": "execute_result"
    }
   ],
   "source": [
    "tutorial_start_df_wo_duplicates = tutorial_start_df.sort_values(\n",
    "    \"start_time\"\n",
    ").drop_duplicates(\"user_id\")\n",
    "\n",
    "tutorial_start_df_wo_duplicates = tutorial_start_df_wo_duplicates[\n",
    "    [\"user_id\", \"tutorial_id\", \"start_time\"]\n",
    "].rename(columns={\"start_time\": \"tutorial_start_time\"})\n",
    "tutorial_start_df_wo_duplicates"
   ]
  },
  {
   "cell_type": "markdown",
   "metadata": {},
   "source": [
    "Объединяем датафреймы.\n",
    "Объединение позволит для каждого пользователя в рамках одного датафрейма указать и время регистрации, и время начала первого обучения в приложении."
   ]
  },
  {
   "cell_type": "code",
   "execution_count": 28,
   "metadata": {},
   "outputs": [
    {
     "data": {
      "text/plain": [
       "count                        11858\n",
       "mean     0 days 04:38:24.019817844\n",
       "std      0 days 04:15:09.650705034\n",
       "min                0 days 00:00:34\n",
       "25%         0 days 01:21:37.500000\n",
       "50%         0 days 03:22:08.500000\n",
       "75%         0 days 06:47:42.750000\n",
       "max                1 days 16:03:46\n",
       "Name: timedelta, dtype: object"
      ]
     },
     "execution_count": 28,
     "metadata": {},
     "output_type": "execute_result"
    }
   ],
   "source": [
    "merged_df = registration_df.merge(\n",
    "    tutorial_start_df_wo_duplicates, on=\"user_id\", how=\"inner\"\n",
    ")\n",
    "merged_df[\"timedelta\"] = (\n",
    "    merged_df[\"tutorial_start_time\"] - merged_df[\"registration_time\"]\n",
    ")\n",
    "merged_df.head()\n",
    "merged_df[\"timedelta\"].mean()\n",
    "merged_df['timedelta'].describe()"
   ]
  },
  {
   "cell_type": "markdown",
   "metadata": {},
   "source": [
    "Таким образом:\n",
    "\n",
    "четверть пользователей тратит меньше 1 часа 26 минут на переход от регистрации к началу обучения;\n",
    "половина всех пользователей тратит между регистрацией и началом обучения менее 3 часов 28 минут."
   ]
  },
  {
   "cell_type": "code",
   "execution_count": 29,
   "metadata": {},
   "outputs": [
    {
     "name": "stdout",
     "output_type": "stream",
     "text": [
      "0 days 00:03:53.174160732\n",
      "count                         9830\n",
      "mean     0 days 00:03:53.174160732\n",
      "std      0 days 00:01:44.803217992\n",
      "min                0 days 00:00:16\n",
      "25%                0 days 00:02:28\n",
      "50%                0 days 00:03:42\n",
      "75%                0 days 00:05:08\n",
      "max                0 days 00:10:06\n",
      "Name: timedelta, dtype: object\n"
     ]
    }
   ],
   "source": [
    "'измеряем время обучения'\n",
    "\n",
    "tutorial_finish_df = total_events_df[total_events_df[\"event_type\"] == \"tutorial_finish\"]\n",
    "first_tutorial_ids = tutorial_start_df_wo_duplicates[\"tutorial_id\"].unique()\n",
    "tutorial_finish_df = tutorial_finish_df[\n",
    "    tutorial_finish_df[\"tutorial_id\"].isin(first_tutorial_ids)\n",
    "]\n",
    "tutorial_finish_df['user_id'].value_counts().mean()\n",
    "tutorial_finish_df = tutorial_finish_df[[\"user_id\", \"start_time\"]].rename(\n",
    "    columns={\"start_time\": \"tutorial_finish_time\"}\n",
    ")\n",
    "merged_df_2 = tutorial_start_df_wo_duplicates.merge(\n",
    "    tutorial_finish_df, on=\"user_id\", how=\"inner\"\n",
    ")\n",
    "merged_df_2[\"timedelta\"] = (\n",
    "    merged_df_2[\"tutorial_finish_time\"] - merged_df_2[\"tutorial_start_time\"]\n",
    ")\n",
    "merged_df_2.head()\n",
    "print(merged_df_2[\"timedelta\"].mean())\n",
    "print(merged_df_2[\"timedelta\"].describe())"
   ]
  },
  {
   "cell_type": "markdown",
   "metadata": {},
   "source": [
    "Таким образом, 75 % пользователей проходят обучение менее чем за 5 минут 3 секунды."
   ]
  },
  {
   "cell_type": "code",
   "execution_count": 30,
   "metadata": {},
   "outputs": [
    {
     "name": "stdout",
     "output_type": "stream",
     "text": [
      "1.0\n",
      "0 days 07:10:19.169863342\n",
      "count                         8342\n",
      "mean     0 days 07:10:19.169863342\n",
      "std      0 days 04:33:51.164488800\n",
      "min                0 days 00:08:15\n",
      "25%         0 days 03:53:16.500000\n",
      "50%                0 days 06:03:28\n",
      "75%         0 days 09:34:58.500000\n",
      "max                1 days 18:48:25\n",
      "Name: timedelta, dtype: object\n"
     ]
    }
   ],
   "source": [
    "'определяем время между registration и level_choice'\n",
    "\n",
    "level_choice_df = total_events_df[total_events_df[\"event_type\"] == \"level_choice\"]\n",
    "print(level_choice_df[\"user_id\"].value_counts().mean())\n",
    "level_choice_df = level_choice_df[[\"user_id\", \"start_time\"]].rename(\n",
    "    columns={\"start_time\": \"level_choice_time\"}\n",
    ")\n",
    "merged_df_3 = registration_df.merge(level_choice_df, on=\"user_id\", how=\"inner\")\n",
    "merged_df_3[\"timedelta\"] = (\n",
    "    merged_df_3[\"level_choice_time\"] - merged_df_3[\"registration_time\"]\n",
    ")\n",
    "print(merged_df_3[\"timedelta\"].mean())\n",
    "print(merged_df_3[\"timedelta\"].describe())"
   ]
  },
  {
   "cell_type": "code",
   "execution_count": 144,
   "metadata": {},
   "outputs": [
    {
     "name": "stdout",
     "output_type": "stream",
     "text": [
      "1.0\n",
      "0 days 00:05:17.128464354\n",
      "count                         5737\n",
      "mean     0 days 00:05:17.128464354\n",
      "std      0 days 00:02:43.923107804\n",
      "min                0 days 00:00:19\n",
      "25%                0 days 00:03:05\n",
      "50%                0 days 00:04:57\n",
      "75%                0 days 00:07:08\n",
      "max                0 days 00:15:48\n",
      "Name: timedelta, dtype: object\n"
     ]
    }
   ],
   "source": [
    "'времени между событием выбора уровня сложности тренировки до события выбора набора бесплатных вопросов'\n",
    "\n",
    "pack_choice_df = total_events_df[total_events_df[\"event_type\"] == \"pack_choice\"]\n",
    "print(pack_choice_df[\"user_id\"].value_counts().mean())\n",
    "pack_choice_df = pack_choice_df[[\"user_id\", \"start_time\"]].rename(\n",
    "    columns={\"start_time\": \"pack_choice_time\"}\n",
    ")\n",
    "merged_df_4 = level_choice_df.merge(pack_choice_df, on=\"user_id\", how=\"inner\")\n",
    "merged_df_4[\"timedelta\"] = (\n",
    "    merged_df_4[\"pack_choice_time\"] - merged_df_4[\"level_choice_time\"]\n",
    ")\n",
    "print(merged_df_4[\"timedelta\"].mean())\n",
    "print(merged_df_4[\"timedelta\"].describe())"
   ]
  },
  {
   "cell_type": "code",
   "execution_count": 146,
   "metadata": {},
   "outputs": [
    {
     "name": "stdout",
     "output_type": "stream",
     "text": [
      "1.0\n",
      "3 days 17:46:53.403125\n",
      "count                         1600\n",
      "mean        3 days 17:46:53.403125\n",
      "std      2 days 04:37:20.225124289\n",
      "min                0 days 00:44:50\n",
      "25%         1 days 21:24:13.250000\n",
      "50%         3 days 12:51:25.500000\n",
      "75%         5 days 09:42:13.750000\n",
      "max               10 days 18:33:59\n",
      "Name: timedelta, dtype: object\n"
     ]
    }
   ],
   "source": [
    "'времени между событием выбора бесплатных вопросов и первой оплатой'\n",
    "\n",
    "purchase_df = total_events_df[total_events_df[\"event_type\"] == \"purchase\"]\n",
    "print(purchase_df[\"user_id\"].value_counts().mean())\n",
    "purchase_df = purchase_df[[\"user_id\", \"event_datetime\"]].rename(\n",
    "    columns={\"event_datetime\": \"purchase_time\"}\n",
    ")\n",
    "merged_df_5 = pack_choice_df.merge(purchase_df, on=\"user_id\", how=\"inner\")\n",
    "merged_df_5[\"timedelta\"] = (\n",
    "    merged_df_5[\"purchase_time\"] - merged_df_5[\"pack_choice_time\"]\n",
    ")\n",
    "print(merged_df_5[\"timedelta\"].mean())\n",
    "print(merged_df_5[\"timedelta\"].describe())"
   ]
  },
  {
   "cell_type": "code",
   "execution_count": 31,
   "metadata": {},
   "outputs": [
    {
     "name": "stdout",
     "output_type": "stream",
     "text": [
      "10250\n"
     ]
    }
   ],
   "source": [
    "'ищем пользователей, прошедших обучение хотя бы раз'\n",
    "\n",
    "users_with_finished_tutorial = total_events_df[\n",
    "    total_events_df[\"event_type\"] == \"tutorial_finish\"\n",
    "][\"user_id\"].unique()\n",
    "print(len(users_with_finished_tutorial))"
   ]
  },
  {
   "cell_type": "code",
   "execution_count": 32,
   "metadata": {},
   "outputs": [
    {
     "name": "stdout",
     "output_type": "stream",
     "text": [
      "11858\n",
      "1608\n",
      "True\n"
     ]
    }
   ],
   "source": [
    "'ищем пользователей, которые начали, но не закончили обучение'\n",
    "\n",
    "users_with_started_tutorial = total_events_df[\n",
    "    total_events_df[\"event_type\"] == \"tutorial_start\"\n",
    "][\"user_id\"].unique()\n",
    "set_users_with_started_tutorial = set(users_with_started_tutorial)\n",
    "set_users_not_finished_but_started_tutorial = (\n",
    "    set_users_with_started_tutorial.difference(set(users_with_finished_tutorial))\n",
    ")\n",
    "\n",
    "print(len(set_users_with_started_tutorial))\n",
    "print(len(set_users_not_finished_but_started_tutorial))\n",
    "print(\n",
    "    len(set_users_with_started_tutorial) - len(set(users_with_finished_tutorial))\n",
    "    == len(set_users_not_finished_but_started_tutorial)\n",
    ")"
   ]
  },
  {
   "cell_type": "code",
   "execution_count": 33,
   "metadata": {},
   "outputs": [
    {
     "name": "stdout",
     "output_type": "stream",
     "text": [
      "8068\n",
      "True\n"
     ]
    }
   ],
   "source": [
    "'ищем пользователей, сразу выбравших уровень сложности'\n",
    "\n",
    "all_users = total_events_df[\"user_id\"].unique()\n",
    "set_all_users = set(all_users)\n",
    "set_users_not_started_tutorial = set_all_users.difference(\n",
    "    set_users_with_started_tutorial\n",
    ")\n",
    "print(len(set_users_not_started_tutorial))\n",
    "print(\n",
    "    len(set_all_users) - len(set_users_with_started_tutorial)\n",
    "    == len(set_users_not_started_tutorial)\n",
    ")"
   ]
  },
  {
   "cell_type": "code",
   "execution_count": 34,
   "metadata": {},
   "outputs": [
    {
     "data": {
      "text/plain": [
       "True"
      ]
     },
     "execution_count": 34,
     "metadata": {},
     "output_type": "execute_result"
    }
   ],
   "source": [
    "'проверяем результат'\n",
    "\n",
    "len(set_users_not_finished_but_started_tutorial) + len(set_users_not_started_tutorial) + len(users_with_finished_tutorial) == len(set_all_users)"
   ]
  },
  {
   "cell_type": "code",
   "execution_count": 35,
   "metadata": {},
   "outputs": [
    {
     "name": "stdout",
     "output_type": "stream",
     "text": [
      "1447\n",
      "Процент пользователей, которые оплатили тренировки (от числа пользователей, завершивших обучение): 14.12%\n"
     ]
    },
    {
     "data": {
      "text/plain": [
       "110.98825155494126"
      ]
     },
     "execution_count": 35,
     "metadata": {},
     "output_type": "execute_result"
    }
   ],
   "source": [
    "'считаем пользователей, которые завершили обучение и совершили оплату'\n",
    "\n",
    "purchase_df_1 = purchase_df[purchase_df[\"user_id\"].isin(users_with_finished_tutorial)]\n",
    "print(purchase_df_1['user_id'].nunique())\n",
    "percent_of_purchase_1 = purchase_df_1[\"user_id\"].nunique() / len(\n",
    "    users_with_finished_tutorial\n",
    ")\n",
    "print(\n",
    "    \"Процент пользователей, которые оплатили тренировки (от числа пользователей, завершивших обучение): {:.2%}\".format(\n",
    "        percent_of_purchase_1\n",
    "    )\n",
    ")\n",
    "purchase_df_1['amount'].mean()"
   ]
  },
  {
   "cell_type": "code",
   "execution_count": 36,
   "metadata": {},
   "outputs": [
    {
     "name": "stdout",
     "output_type": "stream",
     "text": [
      "131\n",
      "Процент пользователей, которые оплатили тренировки (от числа пользователей, начавших обучение, но не завершивших): 8.15%\n"
     ]
    },
    {
     "data": {
      "text/plain": [
       "104.9618320610687"
      ]
     },
     "execution_count": 36,
     "metadata": {},
     "output_type": "execute_result"
    }
   ],
   "source": [
    "'оплаты пользователей, начавших, но не закончивших обучение'\n",
    "\n",
    "purchase_df_2 = purchase_df[\n",
    "    purchase_df[\"user_id\"].isin(set_users_not_finished_but_started_tutorial)\n",
    "]\n",
    "print(purchase_df_2[\"user_id\"].nunique())\n",
    "percent_of_purchase_2 = purchase_df_2[\"user_id\"].nunique() / len(\n",
    "    set_users_not_finished_but_started_tutorial\n",
    ")\n",
    "print(\n",
    "    \"Процент пользователей, которые оплатили тренировки (от числа пользователей, начавших обучение, но не завершивших): {:.2%}\".format(\n",
    "        percent_of_purchase_2\n",
    "    )\n",
    ")\n",
    "purchase_df_2['amount'].mean()"
   ]
  },
  {
   "cell_type": "code",
   "execution_count": 37,
   "metadata": {},
   "outputs": [
    {
     "name": "stdout",
     "output_type": "stream",
     "text": [
      "22\n",
      "Процент пользователей, которые оплатили тренировки (от числа пользователей, не начавших обучение): 0.27%\n"
     ]
    },
    {
     "data": {
      "text/plain": [
       "128.4090909090909"
      ]
     },
     "execution_count": 37,
     "metadata": {},
     "output_type": "execute_result"
    }
   ],
   "source": [
    "'процент пользователей, ни разу не начинавших обучение, совершает оплаты'\n",
    "\n",
    "purchase_df_3 = purchase_df[purchase_df[\"user_id\"].isin(set_users_not_started_tutorial)]\n",
    "print(purchase_df_3['user_id'].nunique())\n",
    "percent_of_purchase_3 = purchase_df_3[\"user_id\"].nunique() / len(\n",
    "    set_users_not_started_tutorial\n",
    ")\n",
    "print(\n",
    "    \"Процент пользователей, которые оплатили тренировки (от числа пользователей, не начавших обучение): {:.2%}\".format(\n",
    "        percent_of_purchase_3\n",
    "    )\n",
    ")\n",
    "purchase_df_3['amount'].mean()"
   ]
  },
  {
   "cell_type": "markdown",
   "metadata": {},
   "source": [
    "Как мы видим, процент пользователей, которые завершили обучение и совершили оплату, выше, чем процент пользователей, которые не начали обучение или не закончили его.\n",
    "\n",
    "Это говорит о том, что факт прохождения обучения влияет на дальнейшую мотивацию использовать приложение. Существенной разницы в среднем чеке при этом не наблюдается, то есть обучение увеличивает вовлечённость, но выбор количества платных пакетов зависит индивидуально от пользователя."
   ]
  }
 ],
 "metadata": {
  "kernelspec": {
   "display_name": "Python 3",
   "language": "python",
   "name": "python3"
  },
  "language_info": {
   "codemirror_mode": {
    "name": "ipython",
    "version": 3
   },
   "file_extension": ".py",
   "mimetype": "text/x-python",
   "name": "python",
   "nbconvert_exporter": "python",
   "pygments_lexer": "ipython3",
   "version": "3.8.5"
  }
 },
 "nbformat": 4,
 "nbformat_minor": 4
}
